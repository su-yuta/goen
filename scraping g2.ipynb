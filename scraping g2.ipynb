{
 "cells": [
  {
   "cell_type": "code",
   "execution_count": 15,
   "id": "37e5caf1",
   "metadata": {},
   "outputs": [],
   "source": [
    "from bs4 import BeautifulSoup\n",
    "import requests\n",
    "from time import sleep\n",
    "import pandas as pd"
   ]
  },
  {
   "cell_type": "code",
   "execution_count": 16,
   "id": "8f21f9a3",
   "metadata": {},
   "outputs": [],
   "source": [
    "url = 'https://suumo.jp/chintai/saitama/sc_wako/?page={}'\n",
    "target_url = url.format(1)\n",
    "d_list = []"
   ]
  },
  {
   "cell_type": "code",
   "execution_count": 17,
   "id": "60213687",
   "metadata": {},
   "outputs": [],
   "source": [
    "r = requests.get(target_url)\n",
    "soup = BeautifulSoup(r.text)"
   ]
  },
  {
   "cell_type": "code",
   "execution_count": 18,
   "id": "34823163",
   "metadata": {},
   "outputs": [],
   "source": [
    "contents = soup.find_all('div',class_='cassetteitem')"
   ]
  },
  {
   "cell_type": "code",
   "execution_count": 19,
   "id": "9db514f8",
   "metadata": {},
   "outputs": [],
   "source": [
    "content = contents[0]"
   ]
  },
  {
   "cell_type": "code",
   "execution_count": 20,
   "id": "1105357e",
   "metadata": {},
   "outputs": [],
   "source": [
    "detail = content.find('div',class_='cassetteitem-detail')"
   ]
  },
  {
   "cell_type": "code",
   "execution_count": 21,
   "id": "823d08b0",
   "metadata": {},
   "outputs": [],
   "source": [
    "title = detail.find('div',class_='cassetteitem_content-title').text\n",
    "address = detail.find('li',class_='cassetteitem_detail-col1').text\n",
    "access = detail.find('li',class_='cassetteitem_detail-col2').text\n",
    "age = detail.find('li',class_='cassetteitem_detail-col3').text"
   ]
  },
  {
   "cell_type": "code",
   "execution_count": 22,
   "id": "8426e0ba",
   "metadata": {},
   "outputs": [],
   "source": [
    "table = content.find('div',class_='cassetteitem-item')"
   ]
  },
  {
   "cell_type": "code",
   "execution_count": 23,
   "id": "1f8802d4",
   "metadata": {},
   "outputs": [],
   "source": [
    "tr_tags = table.find_all('tr',class_='js-cassette_link')"
   ]
  },
  {
   "cell_type": "code",
   "execution_count": 24,
   "id": "dde87251",
   "metadata": {},
   "outputs": [],
   "source": [
    "tr_tag = tr_tags[0]"
   ]
  },
  {
   "cell_type": "code",
   "execution_count": 25,
   "id": "200aad58",
   "metadata": {},
   "outputs": [],
   "source": [
    "floor,price,first_fee,capacity = tr_tag.find_all('td')[2:6]"
   ]
  },
  {
   "cell_type": "code",
   "execution_count": 26,
   "id": "0f8ae8fb",
   "metadata": {},
   "outputs": [],
   "source": [
    "fee,management_fee = price.find_all('li')\n",
    "deposit,gratuity = first_fee.find_all('li')\n",
    "madori,menseki = capacity.find_all('li')"
   ]
  },
  {
   "cell_type": "code",
   "execution_count": 27,
   "id": "00fdc03f",
   "metadata": {},
   "outputs": [],
   "source": [
    "d_list = []\n",
    "contents = soup.find_all('div',class_='cassetteitem')\n",
    "for content in contents:\n",
    "\n",
    "    detail = content.find('div',class_='cassetteitem-detail')\n",
    "    table = content.find('div',class_='cassetteitem-item')\n",
    "\n",
    "    title = detail.find('div',class_='cassetteitem_content-title').text\n",
    "    address = detail.find('li',class_='cassetteitem_detail-col1').text\n",
    "    access = detail.find('li',class_='cassetteitem_detail-col2').text\n",
    "    age = detail.find('li',class_='cassetteitem_detail-col3').text\n",
    "    \n",
    "    tr_tags = table.find_all('tr',class_='js-cassette_link')\n",
    "    \n",
    "    for tr_tag in tr_tags:\n",
    "        \n",
    "        floor,price,first_fee,capacity = tr_tag.find_all('td')[2:6]\n",
    "        \n",
    "        fee,management_fee = price.find_all('li')\n",
    "        deposit,gratuity = first_fee.find_all('li')\n",
    "        madori,menseki = capacity.find_all('li')\n",
    "        \n",
    "        d = {\n",
    "            'title':title,\n",
    "            'address':address,\n",
    "            'access':access,\n",
    "            'age':age,\n",
    "            'floor':floor.text,\n",
    "            'fee':fee.text,\n",
    "            'management_fee':management_fee.text,\n",
    "            'deposit':deposit.text,\n",
    "            'gratuity':gratuity.text,\n",
    "            'madori':madori.text,\n",
    "            'menseki':menseki.text\n",
    "        }\n",
    "        \n",
    "        \n",
    "        d_list.append(d)"
   ]
  },
  {
   "cell_type": "code",
   "execution_count": 28,
   "id": "3e7cbf97",
   "metadata": {},
   "outputs": [
    {
     "name": "stdout",
     "output_type": "stream",
     "text": [
      "d_listの大きさ: 39\n",
      "https://suumo.jp/chintai/saitama/sc_wako/?page=1\n",
      "d_listの大きさ: 78\n",
      "https://suumo.jp/chintai/saitama/sc_wako/?page=2\n",
      "d_listの大きさ: 118\n",
      "https://suumo.jp/chintai/saitama/sc_wako/?page=3\n"
     ]
    }
   ],
   "source": [
    "for i in range(1,4):\n",
    "    print('d_listの大きさ:', len(d_list))\n",
    "\n",
    "    target_url = url.format(i)\n",
    "    \n",
    "    print(target_url) \n",
    "\n",
    "    r = requests.get(target_url)\n",
    "    \n",
    "    sleep(1)\n",
    "    \n",
    "    soup = BeautifulSoup(r.text)\n",
    "    \n",
    "\n",
    "    contents = soup.find_all('div',class_='cassetteitem')\n",
    "\n",
    "    for content in contents:\n",
    "    \n",
    "        detail = content.find('div',class_='cassetteitem-detail')\n",
    "        table = content.find('div',class_='cassetteitem-item')\n",
    "\n",
    "        title = detail.find('div',class_='cassetteitem_content-title').text\n",
    "        address = detail.find('li',class_='cassetteitem_detail-col1').text\n",
    "        access = detail.find('li',class_='cassetteitem_detail-col2').text\n",
    "        age = detail.find('li',class_='cassetteitem_detail-col3').text\n",
    "\n",
    "        tr_tags = table.find_all('tr',class_='js-cassette_link')\n",
    "\n",
    "        for tr_tag in tr_tags:\n",
    "\n",
    "            floor,price,first_fee,capacity = tr_tag.find_all('td')[2:6]\n",
    "\n",
    "            fee,management_fee = price.find_all('li')\n",
    "            deposit,gratuity = first_fee.find_all('li')\n",
    "            madori,menseki = capacity.find_all('li')\n",
    "\n",
    "            d = {\n",
    "                'title':title,\n",
    "                'address':address,\n",
    "                'access':access,\n",
    "                'age':age,\n",
    "                'floor':floor.text,\n",
    "                'fee':fee.text,\n",
    "                'management_fee':management_fee.text,\n",
    "                'deposit':deposit.text,\n",
    "                'gratuity':gratuity.text,\n",
    "                'madori':madori.text,\n",
    "                'menseki':menseki.text\n",
    "            }\n",
    "\n",
    "\n",
    "            d_list.append(d)"
   ]
  },
  {
   "cell_type": "code",
   "execution_count": 29,
   "id": "cc5d1967",
   "metadata": {},
   "outputs": [
    {
     "data": {
      "text/plain": [
       "{'title': 'サンパティーク',\n",
       " 'address': '埼玉県和光市下新倉４',\n",
       " 'access': '\\n都営三田線/西高島平駅 歩20分\\n東武東上線/和光市駅 歩23分\\n東武東上線/成増駅 歩25分\\n',\n",
       " 'age': '\\n築17年\\n2階建\\n',\n",
       " 'floor': '\\r\\n\\t\\t\\t\\t\\t\\t\\t\\t\\t\\t\\t2階',\n",
       " 'fee': '6.1万円',\n",
       " 'management_fee': '4000円',\n",
       " 'deposit': '6.1万円',\n",
       " 'gratuity': '-',\n",
       " 'madori': '1K',\n",
       " 'menseki': '31.85m2'}"
      ]
     },
     "execution_count": 29,
     "metadata": {},
     "output_type": "execute_result"
    }
   ],
   "source": [
    "d_list[-1]"
   ]
  },
  {
   "cell_type": "code",
   "execution_count": 30,
   "id": "eab2e844",
   "metadata": {},
   "outputs": [
    {
     "data": {
      "text/html": [
       "<div>\n",
       "<style scoped>\n",
       "    .dataframe tbody tr th:only-of-type {\n",
       "        vertical-align: middle;\n",
       "    }\n",
       "\n",
       "    .dataframe tbody tr th {\n",
       "        vertical-align: top;\n",
       "    }\n",
       "\n",
       "    .dataframe thead th {\n",
       "        text-align: right;\n",
       "    }\n",
       "</style>\n",
       "<table border=\"1\" class=\"dataframe\">\n",
       "  <thead>\n",
       "    <tr style=\"text-align: right;\">\n",
       "      <th></th>\n",
       "      <th>title</th>\n",
       "      <th>address</th>\n",
       "      <th>access</th>\n",
       "      <th>age</th>\n",
       "      <th>floor</th>\n",
       "      <th>fee</th>\n",
       "      <th>management_fee</th>\n",
       "      <th>deposit</th>\n",
       "      <th>gratuity</th>\n",
       "      <th>madori</th>\n",
       "      <th>menseki</th>\n",
       "    </tr>\n",
       "  </thead>\n",
       "  <tbody>\n",
       "    <tr>\n",
       "      <th>0</th>\n",
       "      <td>プルメリアＢ</td>\n",
       "      <td>埼玉県和光市白子３</td>\n",
       "      <td>\\n東武東上線/成増駅 歩15分\\n\\n\\n</td>\n",
       "      <td>\\n築11年\\n3階建\\n</td>\n",
       "      <td>\\r\\n\\t\\t\\t\\t\\t\\t\\t\\t\\t\\t\\t2階</td>\n",
       "      <td>8.6万円</td>\n",
       "      <td>3300円</td>\n",
       "      <td>-</td>\n",
       "      <td>8.6万円</td>\n",
       "      <td>1LDK</td>\n",
       "      <td>41.27m2</td>\n",
       "    </tr>\n",
       "    <tr>\n",
       "      <th>1</th>\n",
       "      <td>プルメリアＢ</td>\n",
       "      <td>埼玉県和光市白子３</td>\n",
       "      <td>\\n東武東上線/成増駅 歩15分\\n\\n\\n</td>\n",
       "      <td>\\n築11年\\n3階建\\n</td>\n",
       "      <td>\\r\\n\\t\\t\\t\\t\\t\\t\\t\\t\\t\\t\\t3階</td>\n",
       "      <td>9.3万円</td>\n",
       "      <td>3300円</td>\n",
       "      <td>-</td>\n",
       "      <td>9.3万円</td>\n",
       "      <td>1LDK</td>\n",
       "      <td>53.01m2</td>\n",
       "    </tr>\n",
       "    <tr>\n",
       "      <th>2</th>\n",
       "      <td>東武東上線 成増駅 3階建 築5年</td>\n",
       "      <td>埼玉県和光市白子３</td>\n",
       "      <td>\\n東武東上線/成増駅 歩15分\\n都営大江戸線/光が丘駅 歩52分\\n東京メトロ有楽町線/...</td>\n",
       "      <td>\\n築5年\\n3階建\\n</td>\n",
       "      <td>\\r\\n\\t\\t\\t\\t\\t\\t\\t\\t\\t\\t\\t2階</td>\n",
       "      <td>8.6万円</td>\n",
       "      <td>3300円</td>\n",
       "      <td>-</td>\n",
       "      <td>8.6万円</td>\n",
       "      <td>1LDK</td>\n",
       "      <td>41.27m2</td>\n",
       "    </tr>\n",
       "    <tr>\n",
       "      <th>3</th>\n",
       "      <td>東武東上線 成増駅 3階建 築5年</td>\n",
       "      <td>埼玉県和光市白子３</td>\n",
       "      <td>\\n東武東上線/成増駅 歩15分\\n都営大江戸線/光が丘駅 歩52分\\n東京メトロ有楽町線/...</td>\n",
       "      <td>\\n築5年\\n3階建\\n</td>\n",
       "      <td>\\r\\n\\t\\t\\t\\t\\t\\t\\t\\t\\t\\t\\t3階</td>\n",
       "      <td>9.3万円</td>\n",
       "      <td>3300円</td>\n",
       "      <td>-</td>\n",
       "      <td>9.3万円</td>\n",
       "      <td>1LDK</td>\n",
       "      <td>53.01m2</td>\n",
       "    </tr>\n",
       "    <tr>\n",
       "      <th>4</th>\n",
       "      <td>東武東上線 成増駅 3階建 築8年</td>\n",
       "      <td>埼玉県和光市白子３</td>\n",
       "      <td>\\n東武東上線/成増駅 歩17分\\n東京メトロ副都心線/地下鉄成増駅 歩20分\\n都営三田線...</td>\n",
       "      <td>\\n築8年\\n3階建\\n</td>\n",
       "      <td>\\r\\n\\t\\t\\t\\t\\t\\t\\t\\t\\t\\t\\t1階</td>\n",
       "      <td>7.35万円</td>\n",
       "      <td>2800円</td>\n",
       "      <td>-</td>\n",
       "      <td>7.35万円</td>\n",
       "      <td>2K</td>\n",
       "      <td>31.65m2</td>\n",
       "    </tr>\n",
       "  </tbody>\n",
       "</table>\n",
       "</div>"
      ],
      "text/plain": [
       "               title    address  \\\n",
       "0             プルメリアＢ  埼玉県和光市白子３   \n",
       "1             プルメリアＢ  埼玉県和光市白子３   \n",
       "2  東武東上線 成増駅 3階建 築5年  埼玉県和光市白子３   \n",
       "3  東武東上線 成増駅 3階建 築5年  埼玉県和光市白子３   \n",
       "4  東武東上線 成増駅 3階建 築8年  埼玉県和光市白子３   \n",
       "\n",
       "                                              access            age  \\\n",
       "0                             \\n東武東上線/成増駅 歩15分\\n\\n\\n  \\n築11年\\n3階建\\n   \n",
       "1                             \\n東武東上線/成増駅 歩15分\\n\\n\\n  \\n築11年\\n3階建\\n   \n",
       "2  \\n東武東上線/成増駅 歩15分\\n都営大江戸線/光が丘駅 歩52分\\n東京メトロ有楽町線/...   \\n築5年\\n3階建\\n   \n",
       "3  \\n東武東上線/成増駅 歩15分\\n都営大江戸線/光が丘駅 歩52分\\n東京メトロ有楽町線/...   \\n築5年\\n3階建\\n   \n",
       "4  \\n東武東上線/成増駅 歩17分\\n東京メトロ副都心線/地下鉄成増駅 歩20分\\n都営三田線...   \\n築8年\\n3階建\\n   \n",
       "\n",
       "                          floor     fee management_fee deposit gratuity  \\\n",
       "0  \\r\\n\\t\\t\\t\\t\\t\\t\\t\\t\\t\\t\\t2階   8.6万円          3300円       -    8.6万円   \n",
       "1  \\r\\n\\t\\t\\t\\t\\t\\t\\t\\t\\t\\t\\t3階   9.3万円          3300円       -    9.3万円   \n",
       "2  \\r\\n\\t\\t\\t\\t\\t\\t\\t\\t\\t\\t\\t2階   8.6万円          3300円       -    8.6万円   \n",
       "3  \\r\\n\\t\\t\\t\\t\\t\\t\\t\\t\\t\\t\\t3階   9.3万円          3300円       -    9.3万円   \n",
       "4  \\r\\n\\t\\t\\t\\t\\t\\t\\t\\t\\t\\t\\t1階  7.35万円          2800円       -   7.35万円   \n",
       "\n",
       "  madori  menseki  \n",
       "0   1LDK  41.27m2  \n",
       "1   1LDK  53.01m2  \n",
       "2   1LDK  41.27m2  \n",
       "3   1LDK  53.01m2  \n",
       "4     2K  31.65m2  "
      ]
     },
     "execution_count": 30,
     "metadata": {},
     "output_type": "execute_result"
    }
   ],
   "source": [
    "df = pd.DataFrame(d_list)\n",
    "df.head()"
   ]
  },
  {
   "cell_type": "code",
   "execution_count": 31,
   "id": "1ca92e59",
   "metadata": {},
   "outputs": [
    {
     "data": {
      "text/plain": [
       "59"
      ]
     },
     "execution_count": 31,
     "metadata": {},
     "output_type": "execute_result"
    }
   ],
   "source": [
    "len(df.title.unique())"
   ]
  },
  {
   "cell_type": "code",
   "execution_count": 32,
   "id": "88255c7a",
   "metadata": {},
   "outputs": [],
   "source": [
    "df.to_csv('G2 scraping.csv',index=None,encoding='utf-8-sig')"
   ]
  },
  {
   "cell_type": "code",
   "execution_count": null,
   "id": "b2e0d9ed",
   "metadata": {},
   "outputs": [],
   "source": []
  }
 ],
 "metadata": {
  "kernelspec": {
   "display_name": "Python 3 (ipykernel)",
   "language": "python",
   "name": "python3"
  },
  "language_info": {
   "codemirror_mode": {
    "name": "ipython",
    "version": 3
   },
   "file_extension": ".py",
   "mimetype": "text/x-python",
   "name": "python",
   "nbconvert_exporter": "python",
   "pygments_lexer": "ipython3",
   "version": "3.10.9"
  }
 },
 "nbformat": 4,
 "nbformat_minor": 5
}
